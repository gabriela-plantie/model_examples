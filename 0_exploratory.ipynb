{
 "cells": [
  {
   "cell_type": "code",
   "execution_count": 33,
   "id": "polished-samuel",
   "metadata": {},
   "outputs": [],
   "source": [
    "from optbinning import OptimalBinning\n",
    "\n",
    "\n",
    "from os import listdir\n",
    "from os.path import isfile, join\n",
    "from datetime import datetime, timedelta\n",
    "import time\n",
    "import sys\n",
    "\n",
    "import pandas as pd\n",
    "import numpy as np\n",
    "import random\n",
    "\n",
    "from scipy import stats\n",
    "from scipy.stats import chi2_contingency\n",
    "from scipy.stats import chi2\n",
    "\n",
    "from optbinning import OptimalBinning\n",
    "from catboost import CatBoostClassifier, Pool, cv\n",
    "\n",
    "import scikitplot as skplt\n",
    "import matplotlib.pyplot as plt\n",
    "from sklearn.metrics import roc_curve\n",
    "from sklearn.metrics import roc_auc_score\n"
   ]
  },
  {
   "cell_type": "code",
   "execution_count": 34,
   "id": "outstanding-swaziland",
   "metadata": {},
   "outputs": [],
   "source": [
    "\n",
    "i = 'dataset1.csv'\n",
    "df = pd.read_csv(i, sep=';', low_memory=False, error_bad_lines=False)"
   ]
  },
  {
   "cell_type": "code",
   "execution_count": 35,
   "id": "alternative-cache",
   "metadata": {},
   "outputs": [
    {
     "data": {
      "text/plain": [
       "0"
      ]
     },
     "execution_count": 35,
     "metadata": {},
     "output_type": "execute_result"
    }
   ],
   "source": [
    "sum(df.id.value_counts()>1) #no repeated rows"
   ]
  },
  {
   "cell_type": "code",
   "execution_count": 36,
   "id": "automotive-egypt",
   "metadata": {},
   "outputs": [
    {
     "data": {
      "text/plain": [
       "10000"
      ]
     },
     "execution_count": 36,
     "metadata": {},
     "output_type": "execute_result"
    }
   ],
   "source": [
    "prop = df.default.value_counts()\n",
    "prop[1]/(prop[0]+prop[1])\n",
    "sum(df.default.isnull()) # to predict"
   ]
  },
  {
   "cell_type": "markdown",
   "id": "close-vaccine",
   "metadata": {},
   "source": [
    "## Analize distributions from previous data vs prediction.\n"
   ]
  },
  {
   "cell_type": "raw",
   "id": "hundred-purse",
   "metadata": {},
   "source": [
    "With this it is possible to see if not only the distribution changed because of the bussiness but also in this case if there is one feature that won't be available when predicting."
   ]
  },
  {
   "cell_type": "code",
   "execution_count": 37,
   "id": "dominant-soviet",
   "metadata": {},
   "outputs": [
    {
     "name": "stdout",
     "output_type": "stream",
     "text": [
      "(99976, 43)\n"
     ]
    },
    {
     "data": {
      "text/plain": [
       "int64      20\n",
       "float64    19\n",
       "object      3\n",
       "bool        1\n",
       "dtype: int64"
      ]
     },
     "execution_count": 37,
     "metadata": {},
     "output_type": "execute_result"
    }
   ],
   "source": [
    "print(df.shape)\n",
    "#df.columns\n",
    "df_types = df.dtypes\n",
    "df_types.value_counts()"
   ]
  },
  {
   "cell_type": "code",
   "execution_count": 46,
   "id": "brilliant-pottery",
   "metadata": {},
   "outputs": [
    {
     "name": "stdout",
     "output_type": "stream",
     "text": [
      "['x_13', 'x_14', 'x_18']\n"
     ]
    }
   ],
   "source": [
    "categorical_cols = df_types[df_types=='object']\n",
    "categorical_cols = list(categorical_cols.index)\n",
    "categorical_cols = [x for x in categorical_cols if x!='uuid']\n",
    "print(categorical_cols)\n",
    "\n",
    "numerical_cols = df_types[df_types!='object']\n",
    "numerical_cols = list(numerical_cols.index)\n",
    "numerical_cols = [x for x in numerical_cols if x!='default']\n",
    "\n",
    "\n",
    "numerical_cols = list(set(numerical_cols)-set(ordinal_cols))"
   ]
  },
  {
   "cell_type": "code",
   "execution_count": 47,
   "id": "incident-threat",
   "metadata": {},
   "outputs": [],
   "source": [
    "random.seed(1)\n",
    "df['random'] = np.random.randint(1, df.shape[0], df.shape[0])/df.shape[0]"
   ]
  },
  {
   "cell_type": "code",
   "execution_count": 48,
   "id": "dental-representation",
   "metadata": {},
   "outputs": [
    {
     "data": {
      "text/plain": [
       "0.0    88688\n",
       "1.0     1288\n",
       "Name: default, dtype: int64"
      ]
     },
     "metadata": {},
     "output_type": "display_data"
    },
    {
     "data": {
      "text/plain": [
       "(10000, 44)"
      ]
     },
     "execution_count": 48,
     "metadata": {},
     "output_type": "execute_result"
    }
   ],
   "source": [
    "df_hist = df.copy()\n",
    "df_hist = df_hist[df_hist.default.isnull()==False]\n",
    "display(df_hist.default.value_counts())\n",
    "\n",
    "df_pred = df.copy()\n",
    "df_pred = df_pred[df_pred.default.isnull()]\n",
    "df_pred.default.value_counts()\n",
    "df_pred.shape"
   ]
  },
  {
   "cell_type": "code",
   "execution_count": 49,
   "id": "dried-giant",
   "metadata": {},
   "outputs": [
    {
     "data": {
      "text/plain": [
       "0"
      ]
     },
     "execution_count": 49,
     "metadata": {},
     "output_type": "execute_result"
    }
   ],
   "source": [
    "df_hist['random_num'] = np.random.choice(df_hist.shape[0], df_hist.shape[0], replace=False)\n",
    "sum(df_hist['random_num'].value_counts()>1)"
   ]
  },
  {
   "cell_type": "markdown",
   "id": "located-bearing",
   "metadata": {},
   "source": [
    "## changes in distributions of features history vs data to predict"
   ]
  },
  {
   "cell_type": "code",
   "execution_count": 50,
   "id": "polar-height",
   "metadata": {},
   "outputs": [
    {
     "name": "stdout",
     "output_type": "stream",
     "text": [
      "(10000, 45)\n"
     ]
    },
    {
     "data": {
      "text/html": [
       "<div>\n",
       "<style scoped>\n",
       "    .dataframe tbody tr th:only-of-type {\n",
       "        vertical-align: middle;\n",
       "    }\n",
       "\n",
       "    .dataframe tbody tr th {\n",
       "        vertical-align: top;\n",
       "    }\n",
       "\n",
       "    .dataframe thead th {\n",
       "        text-align: right;\n",
       "    }\n",
       "</style>\n",
       "<table border=\"1\" class=\"dataframe\">\n",
       "  <thead>\n",
       "    <tr style=\"text-align: right;\">\n",
       "      <th></th>\n",
       "      <th>uniq_val_hist</th>\n",
       "      <th>uniq_val_pred</th>\n",
       "      <th>q_nulls_hist</th>\n",
       "      <th>q_nulls_pred</th>\n",
       "      <th>mean_hist</th>\n",
       "      <th>mean_pred</th>\n",
       "      <th>ks_test</th>\n",
       "      <th>p_value</th>\n",
       "    </tr>\n",
       "  </thead>\n",
       "  <tbody>\n",
       "    <tr>\n",
       "      <th>x_35</th>\n",
       "      <td>15.0</td>\n",
       "      <td>17.0</td>\n",
       "      <td>0.0</td>\n",
       "      <td>0.0</td>\n",
       "      <td>3.2195</td>\n",
       "      <td>3.954700</td>\n",
       "      <td>0.0005</td>\n",
       "      <td>1.0</td>\n",
       "    </tr>\n",
       "    <tr>\n",
       "      <th>x_27</th>\n",
       "      <td>1.0</td>\n",
       "      <td>3.0</td>\n",
       "      <td>1804.0</td>\n",
       "      <td>1773.0</td>\n",
       "      <td>0.0000</td>\n",
       "      <td>0.000365</td>\n",
       "      <td>0.0031</td>\n",
       "      <td>1.0</td>\n",
       "    </tr>\n",
       "    <tr>\n",
       "      <th>x_26</th>\n",
       "      <td>1.0</td>\n",
       "      <td>2.0</td>\n",
       "      <td>1804.0</td>\n",
       "      <td>1773.0</td>\n",
       "      <td>0.0000</td>\n",
       "      <td>0.000243</td>\n",
       "      <td>0.0031</td>\n",
       "      <td>1.0</td>\n",
       "    </tr>\n",
       "    <tr>\n",
       "      <th>id</th>\n",
       "      <td>10000.0</td>\n",
       "      <td>10000.0</td>\n",
       "      <td>0.0</td>\n",
       "      <td>0.0</td>\n",
       "      <td>44838.5829</td>\n",
       "      <td>94975.500000</td>\n",
       "      <td>1.0000</td>\n",
       "      <td>0.0</td>\n",
       "    </tr>\n",
       "  </tbody>\n",
       "</table>\n",
       "</div>"
      ],
      "text/plain": [
       "      uniq_val_hist  uniq_val_pred  q_nulls_hist  q_nulls_pred   mean_hist  \\\n",
       "x_35           15.0           17.0           0.0           0.0      3.2195   \n",
       "x_27            1.0            3.0        1804.0        1773.0      0.0000   \n",
       "x_26            1.0            2.0        1804.0        1773.0      0.0000   \n",
       "id          10000.0        10000.0           0.0           0.0  44838.5829   \n",
       "\n",
       "         mean_pred  ks_test  p_value  \n",
       "x_35      3.954700   0.0005      1.0  \n",
       "x_27      0.000365   0.0031      1.0  \n",
       "x_26      0.000243   0.0031      1.0  \n",
       "id    94975.500000   1.0000      0.0  "
      ]
     },
     "metadata": {},
     "output_type": "display_data"
    }
   ],
   "source": [
    "dist_num = {}\n",
    "tblh = df_hist[df_hist.random_num< df_pred.shape[0]].copy()\n",
    "tblp = df_pred.copy()\n",
    "print(tblh.shape)\n",
    "for var in numerical_cols + ordinal_cols:\n",
    "    idx_null_hist = pd.isnull(tblh[var])\n",
    "    idx_null_pred = pd.isnull(tblp[var])\n",
    "    q_nulls_hist = sum(idx_null_hist)\n",
    "    q_nulls_pred = sum(idx_null_pred)\n",
    "    uniq_val_hist = len(set(tblh[ idx_null_hist == False ][var]))\n",
    "    uniq_val_pred = len(set(tblp[ idx_null_pred == False ][var]))\n",
    "    mean_hist = np.mean(tblh[ idx_null_hist == False ][var])\n",
    "    mean_pred = np.mean(tblp[ idx_null_pred == False ][var])\n",
    "    ks_test = stats.ks_2samp(tblh[var], tblp[var])\n",
    "    dist_num[var] = [uniq_val_hist, uniq_val_pred, q_nulls_hist, q_nulls_pred, mean_hist, mean_pred, ks_test[0], ks_test[1]]\n",
    "    \n",
    "\n",
    "dif_dist_num =  (pd.DataFrame.from_dict(dist_num)).transpose()\n",
    "dif_dist_num.columns = ['uniq_val_hist', 'uniq_val_pred', 'q_nulls_hist', 'q_nulls_pred', 'mean_hist', 'mean_pred','ks_test', 'p_value']\n",
    "\n",
    "dif_dist_num = dif_dist_num.sort_values('ks_test')\n",
    "idx_m = abs(dif_dist_num.mean_hist - dif_dist_num.mean_pred) /dif_dist_num.mean_hist >.2 \n",
    "idx_k = dif_dist_num.ks_test>0.03\n",
    "idx_p = abs(dif_dist_num.q_nulls_hist - dif_dist_num.q_nulls_pred) /dif_dist_num.q_nulls_hist >.2 \n",
    "idx_u = abs(dif_dist_num.uniq_val_hist - dif_dist_num.uniq_val_pred) /dif_dist_num.uniq_val_hist >.5\n",
    "\n",
    "\n",
    "very_dif  = dif_dist_num[ idx_m | idx_k| idx_p| idx_u]\n",
    "display (very_dif)\n",
    "\n",
    "maybe_exclude_num = list(very_dif.index)\n"
   ]
  },
  {
   "cell_type": "code",
   "execution_count": 54,
   "id": "parallel-intake",
   "metadata": {},
   "outputs": [
    {
     "name": "stdout",
     "output_type": "stream",
     "text": [
      "(10000, 45)\n"
     ]
    },
    {
     "data": {
      "text/html": [
       "<div>\n",
       "<style scoped>\n",
       "    .dataframe tbody tr th:only-of-type {\n",
       "        vertical-align: middle;\n",
       "    }\n",
       "\n",
       "    .dataframe tbody tr th {\n",
       "        vertical-align: top;\n",
       "    }\n",
       "\n",
       "    .dataframe thead th {\n",
       "        text-align: right;\n",
       "    }\n",
       "</style>\n",
       "<table border=\"1\" class=\"dataframe\">\n",
       "  <thead>\n",
       "    <tr style=\"text-align: right;\">\n",
       "      <th></th>\n",
       "      <th>uniq_val_hist</th>\n",
       "      <th>uniq_val_pred</th>\n",
       "      <th>q_nulls_hist</th>\n",
       "      <th>q_nulls_pred</th>\n",
       "      <th>statxi2</th>\n",
       "      <th>pxi2</th>\n",
       "    </tr>\n",
       "  </thead>\n",
       "  <tbody>\n",
       "  </tbody>\n",
       "</table>\n",
       "</div>"
      ],
      "text/plain": [
       "Empty DataFrame\n",
       "Columns: [uniq_val_hist, uniq_val_pred, q_nulls_hist, q_nulls_pred, statxi2, pxi2]\n",
       "Index: []"
      ]
     },
     "metadata": {},
     "output_type": "display_data"
    }
   ],
   "source": [
    "dist_cat = {}\n",
    "tblh = df_hist[df_hist.random_num< df_pred.shape[0]].copy()\n",
    "tblp = df_pred.copy()\n",
    "print(tblh.shape)\n",
    "for var in categorical_cols  :\n",
    "    \n",
    "    idx_null_hist = pd.isnull(tblh[var])\n",
    "    idx_null_pred = pd.isnull(tblp[var])\n",
    "    q_nulls_hist = sum(idx_null_hist)\n",
    "    q_nulls_pred = sum(idx_null_pred)\n",
    "    uniq_val_hist = len(set(tblh[ idx_null_hist == False ][var]))\n",
    "    uniq_val_pred = len(set(tblp[ idx_null_pred == False ][var]))\n",
    "\n",
    "    tblh.loc[tblh[var].isnull(),var]='SD'\n",
    "    tblh.loc[tblh[var].isna(),var]='SD'\n",
    "    tblp.loc[tblp[var].isnull(),var]='SD'\n",
    "    tblp.loc[tblp[var].isna(),var]='SD'\n",
    "\n",
    "    dh = tblh[var].value_counts().reset_index()\n",
    "    dh.columns = ['levels', str(var)+'_h' ]\n",
    "    dp = tblp[var].value_counts().reset_index()\n",
    "    dp.columns = ['levels', str(var)+'_p' ]\n",
    "    all_levels = (set(dh.levels)).union( set(dp.levels))\n",
    "    all_levels_df = pd.DataFrame(index=all_levels).reset_index()\n",
    "    all_levels_df.columns = ['levels']\n",
    "    res = pd.merge(pd.merge( all_levels_df, dh, how= 'left') , dp, how ='left')\n",
    "    table = [list(res[str(var)+'_h']) , list(res[str(var)+'_p'])]\n",
    "    stat, p, dof, expected = chi2_contingency(table)\n",
    "    dist_cat[var] = [uniq_val_hist, uniq_val_pred, q_nulls_hist, q_nulls_pred, stat, p]\n",
    "    \n",
    "dif_dist_cat =  (pd.DataFrame.from_dict(dist_cat)).transpose()\n",
    "dif_dist_cat.columns = ['uniq_val_hist', 'uniq_val_pred', 'q_nulls_hist', 'q_nulls_pred', 'statxi2', 'pxi2']\n",
    "\n",
    "dif_dist_cat = dif_dist_cat.sort_values('pxi2')\n",
    "idx_x = dif_dist_cat.pxi2<0.2\n",
    "idx_p = abs(dif_dist_cat.q_nulls_hist - dif_dist_cat.q_nulls_pred) /dif_dist_cat.q_nulls_hist >.2 \n",
    "idx_u = abs(dif_dist_cat.uniq_val_hist - dif_dist_cat.uniq_val_pred) /dif_dist_cat.uniq_val_hist >.5\n",
    "\n",
    "#display(dif_dist_cat)\n",
    "very_dif  = dif_dist_cat[ idx_x| idx_p| idx_u]\n",
    "display (very_dif)\n",
    "\n",
    "maybe_exclude_cat = list(very_dif.index)"
   ]
  },
  {
   "cell_type": "markdown",
   "id": "certain-magnitude",
   "metadata": {},
   "source": [
    "#### view specific variable"
   ]
  },
  {
   "cell_type": "code",
   "execution_count": 60,
   "id": "moving-department",
   "metadata": {},
   "outputs": [
    {
     "data": {
      "text/html": [
       "<div>\n",
       "<style scoped>\n",
       "    .dataframe tbody tr th:only-of-type {\n",
       "        vertical-align: middle;\n",
       "    }\n",
       "\n",
       "    .dataframe tbody tr th {\n",
       "        vertical-align: top;\n",
       "    }\n",
       "\n",
       "    .dataframe thead th {\n",
       "        text-align: right;\n",
       "    }\n",
       "</style>\n",
       "<table border=\"1\" class=\"dataframe\">\n",
       "  <thead>\n",
       "    <tr style=\"text-align: right;\">\n",
       "      <th></th>\n",
       "      <th>id</th>\n",
       "      <th>default</th>\n",
       "    </tr>\n",
       "    <tr>\n",
       "      <th>x_35</th>\n",
       "      <th></th>\n",
       "      <th></th>\n",
       "    </tr>\n",
       "  </thead>\n",
       "  <tbody>\n",
       "    <tr>\n",
       "      <th>0</th>\n",
       "      <td>89774</td>\n",
       "      <td>1261.0</td>\n",
       "    </tr>\n",
       "    <tr>\n",
       "      <th>47</th>\n",
       "      <td>1</td>\n",
       "      <td>0.0</td>\n",
       "    </tr>\n",
       "    <tr>\n",
       "      <th>90</th>\n",
       "      <td>1</td>\n",
       "      <td>0.0</td>\n",
       "    </tr>\n",
       "    <tr>\n",
       "      <th>99</th>\n",
       "      <td>1</td>\n",
       "      <td>0.0</td>\n",
       "    </tr>\n",
       "    <tr>\n",
       "      <th>348</th>\n",
       "      <td>2</td>\n",
       "      <td>0.0</td>\n",
       "    </tr>\n",
       "    <tr>\n",
       "      <th>...</th>\n",
       "      <td>...</td>\n",
       "      <td>...</td>\n",
       "    </tr>\n",
       "    <tr>\n",
       "      <th>7200</th>\n",
       "      <td>2</td>\n",
       "      <td>0.0</td>\n",
       "    </tr>\n",
       "    <tr>\n",
       "      <th>7910</th>\n",
       "      <td>1</td>\n",
       "      <td>0.0</td>\n",
       "    </tr>\n",
       "    <tr>\n",
       "      <th>11190</th>\n",
       "      <td>1</td>\n",
       "      <td>0.0</td>\n",
       "    </tr>\n",
       "    <tr>\n",
       "      <th>16411</th>\n",
       "      <td>1</td>\n",
       "      <td>1.0</td>\n",
       "    </tr>\n",
       "    <tr>\n",
       "      <th>36479</th>\n",
       "      <td>1</td>\n",
       "      <td>1.0</td>\n",
       "    </tr>\n",
       "  </tbody>\n",
       "</table>\n",
       "<p>103 rows × 2 columns</p>\n",
       "</div>"
      ],
      "text/plain": [
       "          id  default\n",
       "x_35                 \n",
       "0      89774   1261.0\n",
       "47         1      0.0\n",
       "90         1      0.0\n",
       "99         1      0.0\n",
       "348        2      0.0\n",
       "...      ...      ...\n",
       "7200       2      0.0\n",
       "7910       1      0.0\n",
       "11190      1      0.0\n",
       "16411      1      1.0\n",
       "36479      1      1.0\n",
       "\n",
       "[103 rows x 2 columns]"
      ]
     },
     "metadata": {},
     "output_type": "display_data"
    },
    {
     "data": {
      "text/html": [
       "<div>\n",
       "<style scoped>\n",
       "    .dataframe tbody tr th:only-of-type {\n",
       "        vertical-align: middle;\n",
       "    }\n",
       "\n",
       "    .dataframe tbody tr th {\n",
       "        vertical-align: top;\n",
       "    }\n",
       "\n",
       "    .dataframe thead th {\n",
       "        text-align: right;\n",
       "    }\n",
       "</style>\n",
       "<table border=\"1\" class=\"dataframe\">\n",
       "  <thead>\n",
       "    <tr style=\"text-align: right;\">\n",
       "      <th></th>\n",
       "      <th>id</th>\n",
       "      <th>default</th>\n",
       "    </tr>\n",
       "    <tr>\n",
       "      <th>x_35</th>\n",
       "      <th></th>\n",
       "      <th></th>\n",
       "    </tr>\n",
       "  </thead>\n",
       "  <tbody>\n",
       "    <tr>\n",
       "      <th>0</th>\n",
       "      <td>9980</td>\n",
       "      <td>0.0</td>\n",
       "    </tr>\n",
       "    <tr>\n",
       "      <th>400</th>\n",
       "      <td>1</td>\n",
       "      <td>0.0</td>\n",
       "    </tr>\n",
       "    <tr>\n",
       "      <th>500</th>\n",
       "      <td>5</td>\n",
       "      <td>0.0</td>\n",
       "    </tr>\n",
       "    <tr>\n",
       "      <th>695</th>\n",
       "      <td>1</td>\n",
       "      <td>0.0</td>\n",
       "    </tr>\n",
       "    <tr>\n",
       "      <th>1000</th>\n",
       "      <td>1</td>\n",
       "      <td>0.0</td>\n",
       "    </tr>\n",
       "    <tr>\n",
       "      <th>1032</th>\n",
       "      <td>1</td>\n",
       "      <td>0.0</td>\n",
       "    </tr>\n",
       "    <tr>\n",
       "      <th>1275</th>\n",
       "      <td>1</td>\n",
       "      <td>0.0</td>\n",
       "    </tr>\n",
       "    <tr>\n",
       "      <th>1476</th>\n",
       "      <td>1</td>\n",
       "      <td>0.0</td>\n",
       "    </tr>\n",
       "    <tr>\n",
       "      <th>2080</th>\n",
       "      <td>1</td>\n",
       "      <td>0.0</td>\n",
       "    </tr>\n",
       "    <tr>\n",
       "      <th>2390</th>\n",
       "      <td>1</td>\n",
       "      <td>0.0</td>\n",
       "    </tr>\n",
       "    <tr>\n",
       "      <th>2490</th>\n",
       "      <td>1</td>\n",
       "      <td>0.0</td>\n",
       "    </tr>\n",
       "    <tr>\n",
       "      <th>2500</th>\n",
       "      <td>1</td>\n",
       "      <td>0.0</td>\n",
       "    </tr>\n",
       "    <tr>\n",
       "      <th>2790</th>\n",
       "      <td>1</td>\n",
       "      <td>0.0</td>\n",
       "    </tr>\n",
       "    <tr>\n",
       "      <th>2795</th>\n",
       "      <td>1</td>\n",
       "      <td>0.0</td>\n",
       "    </tr>\n",
       "    <tr>\n",
       "      <th>2895</th>\n",
       "      <td>1</td>\n",
       "      <td>0.0</td>\n",
       "    </tr>\n",
       "    <tr>\n",
       "      <th>2999</th>\n",
       "      <td>1</td>\n",
       "      <td>0.0</td>\n",
       "    </tr>\n",
       "    <tr>\n",
       "      <th>10230</th>\n",
       "      <td>1</td>\n",
       "      <td>0.0</td>\n",
       "    </tr>\n",
       "  </tbody>\n",
       "</table>\n",
       "</div>"
      ],
      "text/plain": [
       "         id  default\n",
       "x_35                \n",
       "0      9980      0.0\n",
       "400       1      0.0\n",
       "500       5      0.0\n",
       "695       1      0.0\n",
       "1000      1      0.0\n",
       "1032      1      0.0\n",
       "1275      1      0.0\n",
       "1476      1      0.0\n",
       "2080      1      0.0\n",
       "2390      1      0.0\n",
       "2490      1      0.0\n",
       "2500      1      0.0\n",
       "2790      1      0.0\n",
       "2795      1      0.0\n",
       "2895      1      0.0\n",
       "2999      1      0.0\n",
       "10230     1      0.0"
      ]
     },
     "execution_count": 60,
     "metadata": {},
     "output_type": "execute_result"
    }
   ],
   "source": [
    "var = 'x_35'\n",
    "\n",
    "display(df_hist.groupby(var).agg({'id': 'count', 'default': 'sum'}))\n",
    "df_pred.groupby(var).agg({'id': 'count', 'default': 'sum'})"
   ]
  },
  {
   "cell_type": "code",
   "execution_count": null,
   "id": "olympic-edward",
   "metadata": {},
   "outputs": [],
   "source": []
  }
 ],
 "metadata": {
  "kernelspec": {
   "display_name": "Python 3",
   "language": "python",
   "name": "python3"
  },
  "language_info": {
   "codemirror_mode": {
    "name": "ipython",
    "version": 3
   },
   "file_extension": ".py",
   "mimetype": "text/x-python",
   "name": "python",
   "nbconvert_exporter": "python",
   "pygments_lexer": "ipython3",
   "version": "3.9.1"
  }
 },
 "nbformat": 4,
 "nbformat_minor": 5
}
