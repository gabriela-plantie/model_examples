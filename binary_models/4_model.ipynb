{
 "cells": [
  {
   "cell_type": "code",
   "execution_count": 1,
   "id": "devoted-preference",
   "metadata": {},
   "outputs": [],
   "source": [
    "from optbinning import OptimalBinning\n",
    "\n",
    "\n",
    "from os import listdir\n",
    "from os.path import isfile, join\n",
    "from datetime import datetime, timedelta\n",
    "import time\n",
    "import sys\n",
    "\n",
    "import pandas as pd\n",
    "import numpy as np\n",
    "import random\n",
    "\n",
    "from scipy import stats\n",
    "from scipy.stats import chi2_contingency\n",
    "from scipy.stats import chi2\n",
    "\n",
    "from optbinning import OptimalBinning\n",
    "from catboost import CatBoostClassifier, Pool, cv\n",
    "\n",
    "import scikitplot as skplt\n",
    "import matplotlib.pyplot as plt\n",
    "from sklearn.metrics import roc_curve\n",
    "from sklearn.metrics import roc_auc_score\n",
    "\n",
    "from bayes_opt import BayesianOptimization\n",
    "import catboost\n",
    "import pickle\n",
    "import csv\n",
    "from sklearn.metrics import f1_score, precision_score, recall_score\n",
    "from sklearn.metrics import precision_recall_curve"
   ]
  },
  {
   "cell_type": "code",
   "execution_count": 2,
   "id": "illegal-samba",
   "metadata": {},
   "outputs": [],
   "source": [
    "#import importlib\n",
    "from  evaluation_tools import prediccion as pre\n",
    "#import evaluation_tools as ev\n",
    "#importlib.reload(ev)\n",
    "    "
   ]
  },
  {
   "cell_type": "code",
   "execution_count": 3,
   "id": "supposed-anthropology",
   "metadata": {},
   "outputs": [],
   "source": [
    "#from importlib.abc import Loader\n",
    "#isinstance(Loader, spec.loader)"
   ]
  },
  {
   "cell_type": "markdown",
   "id": "sapphire-panama",
   "metadata": {},
   "source": [
    "__Read data__\n"
   ]
  },
  {
   "cell_type": "raw",
   "id": "hollywood-annual",
   "metadata": {},
   "source": [
    "categorical_cols_cat = [str(x)+'_cat' for x in categorical_cols]\n",
    "\n",
    "\n",
    "l=predictors.copy()\n",
    "l.extend(['default', 'flag_train'])\n",
    "print(l)\n",
    "df_view2 = df_view[l].copy()\n",
    "cat_features = [df_view2.columns.get_loc(c) for c in categorical_cols + categorical_cols_cat if c in df_view2]"
   ]
  },
  {
   "cell_type": "code",
   "execution_count": 4,
   "id": "logical-worker",
   "metadata": {},
   "outputs": [],
   "source": [
    "\n",
    "i = 'df_encod.csv'\n",
    "df = pd.read_csv(i, sep=',', low_memory=False, error_bad_lines=False)\n",
    "    \n"
   ]
  },
  {
   "cell_type": "markdown",
   "id": "celtic-brand",
   "metadata": {},
   "source": [
    "### Prepare data to train"
   ]
  },
  {
   "cell_type": "code",
   "execution_count": 5,
   "id": "interesting-conservation",
   "metadata": {},
   "outputs": [],
   "source": [
    "df_types = df.dtypes\n"
   ]
  },
  {
   "cell_type": "code",
   "execution_count": 6,
   "id": "innovative-hepatitis",
   "metadata": {},
   "outputs": [],
   "source": [
    "## Try model with original variables\n",
    "## Try model with orginal + categorized variables according to opt binning\n",
    "## Try model with orinal + categorized + encoded variables\n"
   ]
  },
  {
   "cell_type": "markdown",
   "id": "tested-reynolds",
   "metadata": {},
   "source": [
    "__Define types for some variables__"
   ]
  },
  {
   "cell_type": "code",
   "execution_count": 7,
   "id": "impaired-seventh",
   "metadata": {
    "scrolled": true
   },
   "outputs": [
    {
     "name": "stdout",
     "output_type": "stream",
     "text": [
      "[]\n"
     ]
    }
   ],
   "source": [
    "categorical_cols = df_types[df_types=='object']\n",
    "categorical_cols = list(categorical_cols.index)\n",
    "categorical_cols = [x for x in categorical_cols if x!='id']\n",
    "print(categorical_cols)\n",
    "\n"
   ]
  },
  {
   "cell_type": "code",
   "execution_count": 8,
   "id": "united-coating",
   "metadata": {},
   "outputs": [],
   "source": [
    "for col in [col for col in df.columns if 'cat' in col]:\n",
    "    df = df.drop(col, axis=1)\n",
    "    \n",
    "for col in categorical_cols:\n",
    "    df = df.drop(col, axis=1)\n",
    "    \n",
    "df_types = df.dtypes"
   ]
  },
  {
   "cell_type": "code",
   "execution_count": 9,
   "id": "wrapped-gender",
   "metadata": {},
   "outputs": [],
   "source": [
    "df_types = df.dtypes\n",
    "df_view = df.copy()"
   ]
  },
  {
   "cell_type": "code",
   "execution_count": 10,
   "id": "simple-swaziland",
   "metadata": {},
   "outputs": [],
   "source": [
    "numerical_cols = df_types[df_types!='object']\n",
    "numerical_cols = list(numerical_cols.index)\n",
    "numerical_cols = [x for x in numerical_cols if x!='default']\n",
    "numerical_cols = [x for x in numerical_cols if x!='flag_train']\n",
    "\n",
    "#numerical_cols = list(set(numerical_cols)-set(ordinal_cols))\n",
    "numerical_cols = list(set(numerical_cols)-set(categorical_cols)- set('random'))\n",
    "categorical_cols=[]"
   ]
  },
  {
   "cell_type": "markdown",
   "id": "tribal-celebration",
   "metadata": {},
   "source": [
    "__Prepare object to train__"
   ]
  },
  {
   "cell_type": "code",
   "execution_count": 11,
   "id": "practical-manner",
   "metadata": {},
   "outputs": [],
   "source": [
    "#print(categorical_cols)\n",
    "predictors = numerical_cols + categorical_cols \n",
    "end_num = len(numerical_cols)\n",
    "end_cat = len(predictors)"
   ]
  },
  {
   "cell_type": "code",
   "execution_count": 12,
   "id": "incorrect-night",
   "metadata": {},
   "outputs": [
    {
     "data": {
      "text/plain": [
       "[]"
      ]
     },
     "execution_count": 12,
     "metadata": {},
     "output_type": "execute_result"
    }
   ],
   "source": [
    "\n",
    "l=predictors.copy()\n",
    "l.extend(['default', 'flag_train'])\n",
    "#print(l)\n",
    "\n",
    "for x in categorical_cols:\n",
    "    df_view[x] = df_view[x].astype(str)\n",
    "\n",
    "df_view2 = df_view[l].copy()\n",
    "\n",
    "cat_features = [df_view2.columns.get_loc(c) for c in categorical_cols  if c in df_view2]\n",
    "cat_features"
   ]
  },
  {
   "cell_type": "code",
   "execution_count": 13,
   "id": "close-sperm",
   "metadata": {},
   "outputs": [],
   "source": [
    "\n",
    "X_train = df_view2[(df_view2['flag_train'] ==0)]\n",
    "y_train = X_train.pop('default')\n",
    "\n",
    "X_val = df_view2[(df_view2['flag_train'] ==1)]\n",
    "y_val = X_val.pop('default')\n",
    "\n",
    "X_test = df_view2[(df_view2['flag_train'] ==2)]\n",
    "y_test = X_test.pop('default')\n",
    "\n",
    "x_train = X_train[predictors].values"
   ]
  },
  {
   "cell_type": "markdown",
   "id": "round-biology",
   "metadata": {},
   "source": [
    "### Train"
   ]
  },
  {
   "cell_type": "raw",
   "id": "formed-pound",
   "metadata": {},
   "source": [
    "# 2        |  0.9053   |  9.953    |  5.86     |  886.6    |  0.3947 \n",
    "model = CatBoostClassifier(thread_count=5, \n",
    "                           max_depth=6, \n",
    "                           loss_function='Logloss' ,\n",
    "                           verbose=100,\n",
    "                           eval_metric= \"AUC\",#\"CrossEntropy\",\n",
    "                           early_stopping_rounds=50,\n",
    "                           random_seed=42,\n",
    "                           learning_rate=0.01,\n",
    "                           l2_leaf_reg=5.9,\n",
    "                           min_data_in_leaf=100,\n",
    "                           iterations=600,\n",
    "                           subsample=0.4)\n",
    "\n",
    "model.fit(x_train,  y_train,  eval_set = (X_val[predictors].values, y_val),   cat_features = cat_features, plot=True)"
   ]
  },
  {
   "cell_type": "markdown",
   "id": "major-wrestling",
   "metadata": {},
   "source": [
    "__Save model and some parameters__"
   ]
  },
  {
   "cell_type": "raw",
   "id": "flush-powder",
   "metadata": {},
   "source": [
    "pkl_filename = \"model2.pkl\"\n",
    "with open(pkl_filename, 'wb') as file:\n",
    "    pickle.dump(model, file)\n",
    "\n",
    "filename = \"predictors2.csv\"\n",
    "\n",
    "with open(filename, 'w') as myfile:\n",
    "    wr = csv.writer(myfile, quoting=csv.QUOTE_ALL)\n",
    "    wr.writerow(predictors)\n",
    "\n",
    "filename = \"to_cat2.csv\"\n",
    "\n",
    "with open(filename, 'w') as myfile:\n",
    "    wr = csv.writer(myfile, quoting=csv.QUOTE_ALL)\n",
    "    wr.writerow(categorical_cols)   "
   ]
  },
  {
   "cell_type": "markdown",
   "id": "accomplished-steps",
   "metadata": {},
   "source": [
    "__Load model from files__"
   ]
  },
  {
   "cell_type": "code",
   "execution_count": 14,
   "id": "current-veteran",
   "metadata": {},
   "outputs": [],
   "source": [
    "pkl_filename = \"model2.pkl\"\n",
    "with open(pkl_filename, 'rb') as file:\n",
    "    model = pickle.load(file)\n",
    "\n",
    "with open('predictors2.csv', newline='') as f:\n",
    "        reader = csv.reader(f)\n",
    "        predictors = list(reader)[0]\n",
    "\n",
    "with open('to_cat2.csv', newline='') as f:\n",
    "        reader = csv.reader(f)\n",
    "        categorical_cols = list(reader)[0]"
   ]
  },
  {
   "cell_type": "markdown",
   "id": "political-pulse",
   "metadata": {},
   "source": [
    "### Test model"
   ]
  },
  {
   "cell_type": "code",
   "execution_count": 15,
   "id": "dried-option",
   "metadata": {},
   "outputs": [],
   "source": [
    "y_pred_probs= model.predict_proba(df_view[predictors].values)\n",
    "df_view['pred']=[item[1] for item in y_pred_probs]"
   ]
  },
  {
   "cell_type": "code",
   "execution_count": 16,
   "id": "banner-perception",
   "metadata": {},
   "outputs": [
    {
     "name": "stdout",
     "output_type": "stream",
     "text": [
      "0\n",
      "KstestResult(statistic=0.6670836943256392, pvalue=0.0)\n",
      "AUC: 0.92\n",
      "1\n",
      "KstestResult(statistic=0.6434794247429899, pvalue=5.535074544563141e-105)\n",
      "AUC: 0.89\n",
      "2\n",
      "KstestResult(statistic=0.6423131240509785, pvalue=1.55891988757182e-100)\n",
      "AUC: 0.89\n"
     ]
    }
   ],
   "source": [
    "\n",
    "\n",
    "for pob in [0,1,2]:\n",
    "    print(pob)\n",
    "    X_ = df_view[(df_view['flag_train'] ==pob)].copy()\n",
    "\n",
    "    pred_def = X_.loc[(X_['default']==1), 'pred']\n",
    "    pred_Ndef =X_.loc[(X_['default']==0), 'pred']\n",
    "    ks=stats.ks_2samp(pred_def, pred_Ndef)\n",
    "    print(ks)            \n",
    "\n",
    "    print('AUC: '+str(np.round(roc_auc_score(X_.default,  X_.pred)  ,2)))\n",
    "\n",
    "    #skplt.metrics.plot_ks_statistic( (X_.default.to_list()) , [ (1-x, x) for x in X_.pred])\n",
    "    #plt.show()\n",
    "\n",
    "    #skplt.metrics.plot_precision_recall_curve(X_.default.to_list(), [ (1-x, x) for x in X_.pred])\n",
    "    #plt.show()"
   ]
  },
  {
   "cell_type": "code",
   "execution_count": 17,
   "id": "analyzed-contractor",
   "metadata": {},
   "outputs": [],
   "source": [
    "df_view['id'] = df['id']"
   ]
  },
  {
   "cell_type": "code",
   "execution_count": 18,
   "id": "absent-boston",
   "metadata": {},
   "outputs": [
    {
     "name": "stdout",
     "output_type": "stream",
     "text": [
      "mean: 0.014077453817048743\n",
      "events: 253.0\n"
     ]
    },
    {
     "data": {
      "text/plain": [
       "(                      id  default  default_rate  pc_pob  pc_default  lift\n",
       " pred_cut                                                                 \n",
       " (-0.001, 0.00156]   1798      0.0         0.000    0.10        0.00   0.0\n",
       " (0.00156, 0.00207]  1797      1.0         0.001    0.10        0.00   0.1\n",
       " (0.00207, 0.00289]  1797      2.0         0.001    0.10        0.01   0.1\n",
       " (0.00289, 0.00395]  1797      1.0         0.001    0.10        0.00   0.1\n",
       " (0.00395, 0.0054]   1797      3.0         0.002    0.10        0.01   0.1\n",
       " (0.0054, 0.00796]   1797      4.0         0.002    0.10        0.02   0.1\n",
       " (0.00796, 0.0123]   1797      9.0         0.005    0.10        0.04   0.4\n",
       " (0.0123, 0.0174]    1797     29.0         0.016    0.10        0.11   1.1\n",
       " (0.0174, 0.0243]    1495     38.0         0.025    0.08        0.15   1.8\n",
       " (0.0243, 0.0272]     302     12.0         0.040    0.02        0.05   2.8\n",
       " (0.0272, 0.0384]     698     32.0         0.046    0.04        0.13   3.3\n",
       " (0.0384, 0.0575]     500     33.0         0.066    0.03        0.13   4.7\n",
       " (0.0575, 0.0987]     300     30.0         0.100    0.02        0.12   7.1\n",
       " (0.0987, 0.183]      200     31.0         0.155    0.01        0.12  11.0\n",
       " (0.183, 1.0]         100     28.0         0.280    0.01        0.11  19.9,\n",
       "           cum_id  precision_default  recall_default  f1_default  lift_default\n",
       " > cut                                                                        \n",
       " 0.000000   17972               0.01            1.00        0.02           1.0\n",
       " 0.001559   16174               0.02            1.00        0.04           1.1\n",
       " 0.002068   14377               0.02            1.00        0.04           1.2\n",
       " 0.002895   12580               0.02            0.99        0.04           1.4\n",
       " 0.003953   10783               0.02            0.98        0.04           1.6\n",
       " 0.005401    8986               0.03            0.97        0.06           1.9\n",
       " 0.007963    7189               0.03            0.96        0.06           2.4\n",
       " 0.012330    5392               0.04            0.92        0.08           3.1\n",
       " 0.017429    3595               0.06            0.81        0.11           4.0\n",
       " 0.024253    2100               0.08            0.66        0.14           5.6\n",
       " 0.027247    1798               0.09            0.61        0.16           6.1\n",
       " 0.038392    1100               0.11            0.48        0.18           7.9\n",
       " 0.057498     600               0.15            0.35        0.21          10.5\n",
       " 0.098712     300               0.20            0.23        0.21          14.0\n",
       " 0.183030     100               0.28            0.11        0.16          19.9)"
      ]
     },
     "execution_count": 18,
     "metadata": {},
     "output_type": "execute_result"
    }
   ],
   "source": [
    "#pip install git+git://github.com/gabriela-plantie/evaluation_tools\n",
    "\n",
    "p = pre.Predictor(df_view[df_view.flag_train==2], 'id', 'pred', 'default')\n",
    "p.performance_table(q_group=[100,200,300,500,1000])"
   ]
  },
  {
   "cell_type": "code",
   "execution_count": 19,
   "id": "green-disclosure",
   "metadata": {},
   "outputs": [
    {
     "name": "stdout",
     "output_type": "stream",
     "text": [
      "KstestResult(statistic=0.6423131240509785, pvalue=1.55891988757182e-100)\n",
      "mean: 0.014077453817048743\n",
      "events: 253.0\n"
     ]
    },
    {
     "data": {
      "image/png": "[encoded data removed]",
      "text/plain": [
       "<Figure size 432x288 with 1 Axes>"
      ]
     },
     "metadata": {
      "needs_background": "light"
     },
     "output_type": "display_data"
    }
   ],
   "source": [
    "p.graph_ks()"
   ]
  },
  {
   "cell_type": "code",
   "execution_count": 20,
   "id": "important-death",
   "metadata": {},
   "outputs": [
    {
     "name": "stdout",
     "output_type": "stream",
     "text": [
      "mean: 0.014077453817048743\n",
      "events: 253.0\n"
     ]
    },
    {
     "data": {
      "image/png": "[encoded data removed]",
      "text/plain": [
       "<Figure size 432x288 with 2 Axes>"
      ]
     },
     "metadata": {
      "needs_background": "light"
     },
     "output_type": "display_data"
    }
   ],
   "source": [
    "p.graph_others()"
   ]
  },
  {
   "cell_type": "code",
   "execution_count": 21,
   "id": "fiscal-primary",
   "metadata": {},
   "outputs": [
    {
     "data": {
      "text/plain": [
       "<AxesSubplot:xlabel='0'>"
      ]
     },
     "execution_count": 21,
     "metadata": {},
     "output_type": "execute_result"
    },
    {
     "data": {
      "image/png": "[encoded data removed]",
      "text/plain": [
       "<Figure size 720x504 with 1 Axes>"
      ]
     },
     "metadata": {
      "needs_background": "light"
     },
     "output_type": "display_data"
    }
   ],
   "source": [
    "imp = pd.DataFrame(list(zip(predictors, list(model.get_feature_importance()))))\n",
    "imp = imp.set_index(0)\n",
    "imp = imp.sort_values(1)\n",
    "imp.plot.bar(figsize=(10,7))"
   ]
  },
  {
   "cell_type": "code",
   "execution_count": null,
   "id": "abroad-retrieval",
   "metadata": {},
   "outputs": [],
   "source": []
  }
 ],
 "metadata": {
  "kernelspec": {
   "display_name": "Python 3",
   "language": "python",
   "name": "python3"
  },
  "language_info": {
   "codemirror_mode": {
    "name": "ipython",
    "version": 3
   },
   "file_extension": ".py",
   "mimetype": "text/x-python",
   "name": "python",
   "nbconvert_exporter": "python",
   "pygments_lexer": "ipython3",
   "version": "3.9.4"
  }
 },
 "nbformat": 4,
 "nbformat_minor": 5
}
